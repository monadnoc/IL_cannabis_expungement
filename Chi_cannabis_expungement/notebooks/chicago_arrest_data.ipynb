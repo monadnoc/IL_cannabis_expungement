{
 "cells": [
  {
   "cell_type": "markdown",
   "metadata": {},
   "source": [
    "# An exploratory look at arrests related to possession of cannabis in Chicago, IL \n",
    "### The data comes from [Chicago's Open Data Portal (a Socrata data service)](https://data.cityofchicago.org/Public-Safety/arrests/6ckw-ez9m)\n",
    "#### The workup uses Python pandas and presents an initial map plot with geopandas"
   ]
  },
  {
   "cell_type": "code",
   "execution_count": 1,
   "metadata": {},
   "outputs": [],
   "source": [
    "# importing pandas\n",
    "import pandas as pd\n",
    "import sys"
   ]
  },
  {
   "cell_type": "code",
   "execution_count": 2,
   "metadata": {},
   "outputs": [
    {
     "data": {
      "text/html": [
       "<div>\n",
       "<style scoped>\n",
       "    .dataframe tbody tr th:only-of-type {\n",
       "        vertical-align: middle;\n",
       "    }\n",
       "\n",
       "    .dataframe tbody tr th {\n",
       "        vertical-align: top;\n",
       "    }\n",
       "\n",
       "    .dataframe thead th {\n",
       "        text-align: right;\n",
       "    }\n",
       "</style>\n",
       "<table border=\"1\" class=\"dataframe\">\n",
       "  <thead>\n",
       "    <tr style=\"text-align: right;\">\n",
       "      <th></th>\n",
       "      <th>ID</th>\n",
       "      <th>Case Number</th>\n",
       "      <th>Date</th>\n",
       "      <th>Block</th>\n",
       "      <th>IUCR</th>\n",
       "      <th>Primary Type</th>\n",
       "      <th>Description</th>\n",
       "      <th>Location Description</th>\n",
       "      <th>Arrest</th>\n",
       "      <th>Domestic</th>\n",
       "      <th>...</th>\n",
       "      <th>Longitude</th>\n",
       "      <th>Location</th>\n",
       "      <th>Historical Wards 2003-2015</th>\n",
       "      <th>Zip Codes</th>\n",
       "      <th>Community Areas</th>\n",
       "      <th>Census Tracts</th>\n",
       "      <th>Wards</th>\n",
       "      <th>Boundaries - ZIP Codes</th>\n",
       "      <th>Police Districts</th>\n",
       "      <th>Police Beats</th>\n",
       "    </tr>\n",
       "  </thead>\n",
       "  <tbody>\n",
       "    <tr>\n",
       "      <th>0</th>\n",
       "      <td>11811230</td>\n",
       "      <td>JC412844</td>\n",
       "      <td>08/29/2019 11:55:00 PM</td>\n",
       "      <td>011XX N HARDING AVE</td>\n",
       "      <td>031A</td>\n",
       "      <td>ROBBERY</td>\n",
       "      <td>ARMED: HANDGUN</td>\n",
       "      <td>SIDEWALK</td>\n",
       "      <td>False</td>\n",
       "      <td>False</td>\n",
       "      <td>...</td>\n",
       "      <td>-87.725044</td>\n",
       "      <td>(41.901427038, -87.725044239)</td>\n",
       "      <td>41.0</td>\n",
       "      <td>4299.0</td>\n",
       "      <td>24.0</td>\n",
       "      <td>456.0</td>\n",
       "      <td>45.0</td>\n",
       "      <td>5.0</td>\n",
       "      <td>16.0</td>\n",
       "      <td>66.0</td>\n",
       "    </tr>\n",
       "    <tr>\n",
       "      <th>1</th>\n",
       "      <td>11811246</td>\n",
       "      <td>JC412849</td>\n",
       "      <td>08/29/2019 11:54:00 PM</td>\n",
       "      <td>046XX S KEELER AVE</td>\n",
       "      <td>143A</td>\n",
       "      <td>WEAPONS VIOLATION</td>\n",
       "      <td>UNLAWFUL POSS OF HANDGUN</td>\n",
       "      <td>VEHICLE NON-COMMERCIAL</td>\n",
       "      <td>True</td>\n",
       "      <td>False</td>\n",
       "      <td>...</td>\n",
       "      <td>-87.728521</td>\n",
       "      <td>(41.808939116, -87.72852063)</td>\n",
       "      <td>49.0</td>\n",
       "      <td>22248.0</td>\n",
       "      <td>54.0</td>\n",
       "      <td>591.0</td>\n",
       "      <td>8.0</td>\n",
       "      <td>56.0</td>\n",
       "      <td>13.0</td>\n",
       "      <td>105.0</td>\n",
       "    </tr>\n",
       "    <tr>\n",
       "      <th>2</th>\n",
       "      <td>11811245</td>\n",
       "      <td>JC412820</td>\n",
       "      <td>08/29/2019 11:53:00 PM</td>\n",
       "      <td>004XX W 31ST ST</td>\n",
       "      <td>143A</td>\n",
       "      <td>WEAPONS VIOLATION</td>\n",
       "      <td>UNLAWFUL POSS OF HANDGUN</td>\n",
       "      <td>SIDEWALK</td>\n",
       "      <td>True</td>\n",
       "      <td>False</td>\n",
       "      <td>...</td>\n",
       "      <td>-87.638669</td>\n",
       "      <td>(41.838143106, -87.638668547)</td>\n",
       "      <td>26.0</td>\n",
       "      <td>21194.0</td>\n",
       "      <td>58.0</td>\n",
       "      <td>223.0</td>\n",
       "      <td>48.0</td>\n",
       "      <td>40.0</td>\n",
       "      <td>23.0</td>\n",
       "      <td>170.0</td>\n",
       "    </tr>\n",
       "    <tr>\n",
       "      <th>3</th>\n",
       "      <td>11811232</td>\n",
       "      <td>JC412835</td>\n",
       "      <td>08/29/2019 11:51:00 PM</td>\n",
       "      <td>093XX S GREENWOOD AVE</td>\n",
       "      <td>0486</td>\n",
       "      <td>BATTERY</td>\n",
       "      <td>DOMESTIC BATTERY SIMPLE</td>\n",
       "      <td>STREET</td>\n",
       "      <td>False</td>\n",
       "      <td>True</td>\n",
       "      <td>...</td>\n",
       "      <td>-87.597296</td>\n",
       "      <td>(41.725328491, -87.597296088)</td>\n",
       "      <td>9.0</td>\n",
       "      <td>21546.0</td>\n",
       "      <td>43.0</td>\n",
       "      <td>472.0</td>\n",
       "      <td>35.0</td>\n",
       "      <td>61.0</td>\n",
       "      <td>19.0</td>\n",
       "      <td>246.0</td>\n",
       "    </tr>\n",
       "    <tr>\n",
       "      <th>4</th>\n",
       "      <td>11811219</td>\n",
       "      <td>JC412841</td>\n",
       "      <td>08/29/2019 11:50:00 PM</td>\n",
       "      <td>058XX S DR MARTIN LUTHER KING JR DR</td>\n",
       "      <td>1477</td>\n",
       "      <td>WEAPONS VIOLATION</td>\n",
       "      <td>RECKLESS FIREARM DISCHARGE</td>\n",
       "      <td>ALLEY</td>\n",
       "      <td>False</td>\n",
       "      <td>False</td>\n",
       "      <td>...</td>\n",
       "      <td>-87.615826</td>\n",
       "      <td>(41.788430122, -87.615825671)</td>\n",
       "      <td>53.0</td>\n",
       "      <td>22260.0</td>\n",
       "      <td>7.0</td>\n",
       "      <td>402.0</td>\n",
       "      <td>4.0</td>\n",
       "      <td>60.0</td>\n",
       "      <td>24.0</td>\n",
       "      <td>268.0</td>\n",
       "    </tr>\n",
       "  </tbody>\n",
       "</table>\n",
       "<p>5 rows × 30 columns</p>\n",
       "</div>"
      ],
      "text/plain": [
       "         ID Case Number                    Date  \\\n",
       "0  11811230    JC412844  08/29/2019 11:55:00 PM   \n",
       "1  11811246    JC412849  08/29/2019 11:54:00 PM   \n",
       "2  11811245    JC412820  08/29/2019 11:53:00 PM   \n",
       "3  11811232    JC412835  08/29/2019 11:51:00 PM   \n",
       "4  11811219    JC412841  08/29/2019 11:50:00 PM   \n",
       "\n",
       "                                 Block  IUCR       Primary Type  \\\n",
       "0                  011XX N HARDING AVE  031A            ROBBERY   \n",
       "1                   046XX S KEELER AVE  143A  WEAPONS VIOLATION   \n",
       "2                      004XX W 31ST ST  143A  WEAPONS VIOLATION   \n",
       "3                093XX S GREENWOOD AVE  0486            BATTERY   \n",
       "4  058XX S DR MARTIN LUTHER KING JR DR  1477  WEAPONS VIOLATION   \n",
       "\n",
       "                  Description    Location Description  Arrest  Domestic  ...  \\\n",
       "0              ARMED: HANDGUN                SIDEWALK   False     False  ...   \n",
       "1    UNLAWFUL POSS OF HANDGUN  VEHICLE NON-COMMERCIAL    True     False  ...   \n",
       "2    UNLAWFUL POSS OF HANDGUN                SIDEWALK    True     False  ...   \n",
       "3     DOMESTIC BATTERY SIMPLE                  STREET   False      True  ...   \n",
       "4  RECKLESS FIREARM DISCHARGE                   ALLEY   False     False  ...   \n",
       "\n",
       "   Longitude                       Location  Historical Wards 2003-2015  \\\n",
       "0 -87.725044  (41.901427038, -87.725044239)                        41.0   \n",
       "1 -87.728521   (41.808939116, -87.72852063)                        49.0   \n",
       "2 -87.638669  (41.838143106, -87.638668547)                        26.0   \n",
       "3 -87.597296  (41.725328491, -87.597296088)                         9.0   \n",
       "4 -87.615826  (41.788430122, -87.615825671)                        53.0   \n",
       "\n",
       "   Zip Codes Community Areas  Census Tracts  Wards  Boundaries - ZIP Codes  \\\n",
       "0     4299.0            24.0          456.0   45.0                     5.0   \n",
       "1    22248.0            54.0          591.0    8.0                    56.0   \n",
       "2    21194.0            58.0          223.0   48.0                    40.0   \n",
       "3    21546.0            43.0          472.0   35.0                    61.0   \n",
       "4    22260.0             7.0          402.0    4.0                    60.0   \n",
       "\n",
       "  Police Districts  Police Beats  \n",
       "0             16.0          66.0  \n",
       "1             13.0         105.0  \n",
       "2             23.0         170.0  \n",
       "3             19.0         246.0  \n",
       "4             24.0         268.0  \n",
       "\n",
       "[5 rows x 30 columns]"
      ]
     },
     "execution_count": 2,
     "metadata": {},
     "output_type": "execute_result"
    }
   ],
   "source": [
    "df = pd.read_csv('../../../Crimes_-_2001_to_present.csv') #need to use API endpoint (for non local data)\n",
    "# api endpoint https://data.cityofchicago.org/resource/6ckw-ez9m.json\n",
    "# api general examples https://dev.socrata.com/consumers/getting-started.html\n",
    "df.head()"
   ]
  },
  {
   "cell_type": "code",
   "execution_count": 3,
   "metadata": {},
   "outputs": [
    {
     "data": {
      "text/plain": [
       "9749610"
      ]
     },
     "execution_count": 3,
     "metadata": {},
     "output_type": "execute_result"
    }
   ],
   "source": [
    "df_cann_bool = df.Description.str.contains(\"CANNABIS\")\n",
    "df_cann = df[df_cann_bool]\n",
    "df_cann.size"
   ]
  },
  {
   "cell_type": "code",
   "execution_count": 4,
   "metadata": {},
   "outputs": [
    {
     "name": "stdout",
     "output_type": "stream",
     "text": [
      "About 5.0% of all arrests have 'CANNABIS' in the desription\n"
     ]
    }
   ],
   "source": [
    "print(\"About \" + str(round(df_cann.size / df.size * 100))\n",
    "      + \"% of all arrests have 'CANNABIS' in the desription\")"
   ]
  },
  {
   "cell_type": "code",
   "execution_count": 5,
   "metadata": {},
   "outputs": [
    {
     "name": "stdout",
     "output_type": "stream",
     "text": [
      "There are 8 unique occurences of arrests with 'CANNABIS' in the description\n",
      "These are:\n",
      "MANU/DEL:CANNABIS OVER 10 GMS\n",
      "POSS: CANNABIS 30GMS OR LESS\n",
      "MANU/DEL:CANNABIS 10GM OR LESS\n",
      "POSS: CANNABIS MORE THAN 30GMS\n",
      "DELIVER CANNABIS TO PERSON <18\n",
      "CANNABIS PLANT\n",
      "ATTEMPT POSSESSION CANNABIS\n",
      "CALCULATED CANNABIS CONSPIRACY\n"
     ]
    }
   ],
   "source": [
    "unique_description = pd.Series(df_cann.Description.unique())\n",
    "print(\"There are \" + str(len(unique_description)) \n",
    "      + \" unique occurences of arrests with 'CANNABIS' in the description\")\n",
    "print('These are:')\n",
    "for blah in unique_description:\n",
    "    print(blah)"
   ]
  },
  {
   "cell_type": "markdown",
   "metadata": {},
   "source": [
    "'POSS: CANNABIS 30GMS OR LESS' is especially relevant to expungement because this level of possession is legal Jan. 1, 2020 according to IL ['Cannabis Regulation and Tax Act'](http://www.ilga.gov/legislation/101/HB/PDF/10100HB1438lv.pdf)"
   ]
  },
  {
   "cell_type": "code",
   "execution_count": 6,
   "metadata": {},
   "outputs": [
    {
     "data": {
      "text/plain": [
       "8330730"
      ]
     },
     "execution_count": 6,
     "metadata": {},
     "output_type": "execute_result"
    }
   ],
   "source": [
    "bool_30g_or_less = df_cann.Description.str.contains(\"POSS: CANNABIS 30GMS OR LESS\")\n",
    "df_30g_or_less = df_cann[bool_30g_or_less]\n",
    "df_30g_or_less.size"
   ]
  },
  {
   "cell_type": "code",
   "execution_count": 7,
   "metadata": {},
   "outputs": [
    {
     "name": "stdout",
     "output_type": "stream",
     "text": [
      "This represents about 85.0% of arrests with 'CANNABIS' in the desription\n"
     ]
    }
   ],
   "source": [
    "print(\"This represents about \" \n",
    "      + str(round(df_30g_or_less.size / df_cann.size * 100))\n",
    "      + \"% of arrests with 'CANNABIS' in the desription\")"
   ]
  },
  {
   "cell_type": "markdown",
   "metadata": {},
   "source": [
    "## Let's repeat that to be clear:\n",
    "### 85% of arrests in Chicago related to cannabis in the last ~20 years would be legal activity January 1, 2020 and are *likely* eligible for automatic expungement\n",
    "In this simple dataset, that represents ~830,000 arrests"
   ]
  },
  {
   "cell_type": "code",
   "execution_count": 8,
   "metadata": {},
   "outputs": [
    {
     "name": "stdout",
     "output_type": "stream",
     "text": [
      "Collecting package metadata (current_repodata.json): ...working... done\n",
      "Solving environment: ...working... done\n",
      "\n",
      "# All requested packages already installed.\n",
      "\n"
     ]
    },
    {
     "name": "stderr",
     "output_type": "stream",
     "text": [
      "\n",
      "\n",
      "==> WARNING: A newer version of conda exists. <==\n",
      "  current version: 4.7.11\n",
      "  latest version: 4.7.12\n",
      "\n",
      "Please update conda by running\n",
      "\n",
      "    $ conda update -n base -c defaults conda\n",
      "\n",
      "\n"
     ]
    }
   ],
   "source": [
    "# if you want to visualize this data in the notebook, geopandas is an easy one\n",
    "# the following workaround comes from Jake VanderPlas \n",
    "# (https://jakevdp.github.io/blog/2017/12/05/installing-python-packages-from-jupyter/)\n",
    "!conda install --yes --prefix {sys.prefix} geopandas\n",
    "# otherwise global install with pip\n",
    "# !{sys.executable} -m pip install numpy"
   ]
  },
  {
   "cell_type": "code",
   "execution_count": 9,
   "metadata": {},
   "outputs": [],
   "source": [
    "import geopandas\n",
    "from shapely.geometry import Point\n",
    "import matplotlib.pyplot as plt"
   ]
  },
  {
   "cell_type": "code",
   "execution_count": 10,
   "metadata": {},
   "outputs": [
    {
     "data": {
      "text/html": [
       "<div>\n",
       "<style scoped>\n",
       "    .dataframe tbody tr th:only-of-type {\n",
       "        vertical-align: middle;\n",
       "    }\n",
       "\n",
       "    .dataframe tbody tr th {\n",
       "        vertical-align: top;\n",
       "    }\n",
       "\n",
       "    .dataframe thead th {\n",
       "        text-align: right;\n",
       "    }\n",
       "</style>\n",
       "<table border=\"1\" class=\"dataframe\">\n",
       "  <thead>\n",
       "    <tr style=\"text-align: right;\">\n",
       "      <th></th>\n",
       "      <th>ID</th>\n",
       "      <th>Case Number</th>\n",
       "      <th>Date</th>\n",
       "      <th>Block</th>\n",
       "      <th>IUCR</th>\n",
       "      <th>Primary Type</th>\n",
       "      <th>Description</th>\n",
       "      <th>Location Description</th>\n",
       "      <th>Arrest</th>\n",
       "      <th>Domestic</th>\n",
       "      <th>...</th>\n",
       "      <th>Location</th>\n",
       "      <th>Historical Wards 2003-2015</th>\n",
       "      <th>Zip Codes</th>\n",
       "      <th>Community Areas</th>\n",
       "      <th>Census Tracts</th>\n",
       "      <th>Wards</th>\n",
       "      <th>Boundaries - ZIP Codes</th>\n",
       "      <th>Police Districts</th>\n",
       "      <th>Police Beats</th>\n",
       "      <th>geometry</th>\n",
       "    </tr>\n",
       "  </thead>\n",
       "  <tbody>\n",
       "    <tr>\n",
       "      <th>92</th>\n",
       "      <td>11811208</td>\n",
       "      <td>JC412738</td>\n",
       "      <td>08/29/2019 09:34:00 PM</td>\n",
       "      <td>067XX S STONY ISLAND AVE</td>\n",
       "      <td>1811</td>\n",
       "      <td>NARCOTICS</td>\n",
       "      <td>POSS: CANNABIS 30GMS OR LESS</td>\n",
       "      <td>STREET</td>\n",
       "      <td>True</td>\n",
       "      <td>False</td>\n",
       "      <td>...</td>\n",
       "      <td>(41.772882101, -87.586293688)</td>\n",
       "      <td>32.0</td>\n",
       "      <td>22260.0</td>\n",
       "      <td>39.0</td>\n",
       "      <td>381.0</td>\n",
       "      <td>33.0</td>\n",
       "      <td>24.0</td>\n",
       "      <td>18.0</td>\n",
       "      <td>212.0</td>\n",
       "      <td>POINT (-87.586293688 41.772882101)</td>\n",
       "    </tr>\n",
       "    <tr>\n",
       "      <th>182</th>\n",
       "      <td>11810967</td>\n",
       "      <td>JC412582</td>\n",
       "      <td>08/29/2019 07:42:00 PM</td>\n",
       "      <td>033XX W 56TH ST</td>\n",
       "      <td>1811</td>\n",
       "      <td>NARCOTICS</td>\n",
       "      <td>POSS: CANNABIS 30GMS OR LESS</td>\n",
       "      <td>STREET</td>\n",
       "      <td>True</td>\n",
       "      <td>False</td>\n",
       "      <td>...</td>\n",
       "      <td>(41.791634939, -87.707751858)</td>\n",
       "      <td>49.0</td>\n",
       "      <td>21867.0</td>\n",
       "      <td>61.0</td>\n",
       "      <td>801.0</td>\n",
       "      <td>8.0</td>\n",
       "      <td>58.0</td>\n",
       "      <td>13.0</td>\n",
       "      <td>129.0</td>\n",
       "      <td>POINT (-87.70775185799999 41.791634939)</td>\n",
       "    </tr>\n",
       "    <tr>\n",
       "      <th>301</th>\n",
       "      <td>11810853</td>\n",
       "      <td>JC412411</td>\n",
       "      <td>08/29/2019 04:52:00 PM</td>\n",
       "      <td>013XX S CENTRAL PARK AVE</td>\n",
       "      <td>1811</td>\n",
       "      <td>NARCOTICS</td>\n",
       "      <td>POSS: CANNABIS 30GMS OR LESS</td>\n",
       "      <td>SMALL RETAIL STORE</td>\n",
       "      <td>True</td>\n",
       "      <td>False</td>\n",
       "      <td>...</td>\n",
       "      <td>(41.864177046, -87.715356764)</td>\n",
       "      <td>36.0</td>\n",
       "      <td>21569.0</td>\n",
       "      <td>30.0</td>\n",
       "      <td>33.0</td>\n",
       "      <td>14.0</td>\n",
       "      <td>57.0</td>\n",
       "      <td>21.0</td>\n",
       "      <td>153.0</td>\n",
       "      <td>POINT (-87.71535676399999 41.864177046)</td>\n",
       "    </tr>\n",
       "    <tr>\n",
       "      <th>958</th>\n",
       "      <td>11809728</td>\n",
       "      <td>JC411130</td>\n",
       "      <td>08/28/2019 05:21:00 PM</td>\n",
       "      <td>092XX S ASHLAND AVE</td>\n",
       "      <td>1811</td>\n",
       "      <td>NARCOTICS</td>\n",
       "      <td>POSS: CANNABIS 30GMS OR LESS</td>\n",
       "      <td>VEHICLE NON-COMMERCIAL</td>\n",
       "      <td>True</td>\n",
       "      <td>False</td>\n",
       "      <td>...</td>\n",
       "      <td>(41.726212389, -87.662796973)</td>\n",
       "      <td>18.0</td>\n",
       "      <td>21554.0</td>\n",
       "      <td>72.0</td>\n",
       "      <td>632.0</td>\n",
       "      <td>13.0</td>\n",
       "      <td>59.0</td>\n",
       "      <td>9.0</td>\n",
       "      <td>245.0</td>\n",
       "      <td>POINT (-87.662796973 41.726212389)</td>\n",
       "    </tr>\n",
       "    <tr>\n",
       "      <th>1116</th>\n",
       "      <td>11809427</td>\n",
       "      <td>JC410761</td>\n",
       "      <td>08/28/2019 01:01:00 PM</td>\n",
       "      <td>054XX S LAFLIN ST</td>\n",
       "      <td>1811</td>\n",
       "      <td>NARCOTICS</td>\n",
       "      <td>POSS: CANNABIS 30GMS OR LESS</td>\n",
       "      <td>STREET</td>\n",
       "      <td>True</td>\n",
       "      <td>False</td>\n",
       "      <td>...</td>\n",
       "      <td>(41.794352449, -87.66216423)</td>\n",
       "      <td>19.0</td>\n",
       "      <td>14924.0</td>\n",
       "      <td>59.0</td>\n",
       "      <td>790.0</td>\n",
       "      <td>4.0</td>\n",
       "      <td>37.0</td>\n",
       "      <td>23.0</td>\n",
       "      <td>127.0</td>\n",
       "      <td>POINT (-87.66216423 41.794352449)</td>\n",
       "    </tr>\n",
       "  </tbody>\n",
       "</table>\n",
       "<p>5 rows × 31 columns</p>\n",
       "</div>"
      ],
      "text/plain": [
       "            ID Case Number                    Date                     Block  \\\n",
       "92    11811208    JC412738  08/29/2019 09:34:00 PM  067XX S STONY ISLAND AVE   \n",
       "182   11810967    JC412582  08/29/2019 07:42:00 PM           033XX W 56TH ST   \n",
       "301   11810853    JC412411  08/29/2019 04:52:00 PM  013XX S CENTRAL PARK AVE   \n",
       "958   11809728    JC411130  08/28/2019 05:21:00 PM       092XX S ASHLAND AVE   \n",
       "1116  11809427    JC410761  08/28/2019 01:01:00 PM         054XX S LAFLIN ST   \n",
       "\n",
       "      IUCR Primary Type                   Description    Location Description  \\\n",
       "92    1811    NARCOTICS  POSS: CANNABIS 30GMS OR LESS                  STREET   \n",
       "182   1811    NARCOTICS  POSS: CANNABIS 30GMS OR LESS                  STREET   \n",
       "301   1811    NARCOTICS  POSS: CANNABIS 30GMS OR LESS      SMALL RETAIL STORE   \n",
       "958   1811    NARCOTICS  POSS: CANNABIS 30GMS OR LESS  VEHICLE NON-COMMERCIAL   \n",
       "1116  1811    NARCOTICS  POSS: CANNABIS 30GMS OR LESS                  STREET   \n",
       "\n",
       "      Arrest  Domestic  ...                       Location  \\\n",
       "92      True     False  ...  (41.772882101, -87.586293688)   \n",
       "182     True     False  ...  (41.791634939, -87.707751858)   \n",
       "301     True     False  ...  (41.864177046, -87.715356764)   \n",
       "958     True     False  ...  (41.726212389, -87.662796973)   \n",
       "1116    True     False  ...   (41.794352449, -87.66216423)   \n",
       "\n",
       "      Historical Wards 2003-2015  Zip Codes  Community Areas Census Tracts  \\\n",
       "92                          32.0    22260.0             39.0         381.0   \n",
       "182                         49.0    21867.0             61.0         801.0   \n",
       "301                         36.0    21569.0             30.0          33.0   \n",
       "958                         18.0    21554.0             72.0         632.0   \n",
       "1116                        19.0    14924.0             59.0         790.0   \n",
       "\n",
       "      Wards  Boundaries - ZIP Codes  Police Districts Police Beats  \\\n",
       "92     33.0                    24.0              18.0        212.0   \n",
       "182     8.0                    58.0              13.0        129.0   \n",
       "301    14.0                    57.0              21.0        153.0   \n",
       "958    13.0                    59.0               9.0        245.0   \n",
       "1116    4.0                    37.0              23.0        127.0   \n",
       "\n",
       "                                     geometry  \n",
       "92         POINT (-87.586293688 41.772882101)  \n",
       "182   POINT (-87.70775185799999 41.791634939)  \n",
       "301   POINT (-87.71535676399999 41.864177046)  \n",
       "958        POINT (-87.662796973 41.726212389)  \n",
       "1116        POINT (-87.66216423 41.794352449)  \n",
       "\n",
       "[5 rows x 31 columns]"
      ]
     },
     "execution_count": 10,
     "metadata": {},
     "output_type": "execute_result"
    }
   ],
   "source": [
    "# create GeoDataFrame from shapely geometry objects\n",
    "# credit to Ryan Stuart\n",
    "# https://towardsdatascience.com/geopandas-101-plot-any-data-with-a-latitude-and-longitude-on-a-map-98e01944b972\n",
    "crs = { \"init\" : \"epsg:4326\" } #coordinate reference system\n",
    "geom = [Point(xy) for xy in zip(df_30g_or_less.Longitude, \n",
    "                                df_30g_or_less.Latitude)]\n",
    "geo_df = geopandas.GeoDataFrame(df_30g_or_less,\n",
    "                                crs=crs,\n",
    "                                geometry=geom)\n",
    "geo_df.head()"
   ]
  },
  {
   "cell_type": "code",
   "execution_count": 11,
   "metadata": {},
   "outputs": [
    {
     "data": {
      "text/plain": [
       "<matplotlib.axes._subplots.AxesSubplot at 0x20bca831fd0>"
      ]
     },
     "execution_count": 11,
     "metadata": {},
     "output_type": "execute_result"
    },
    {
     "data": {
      "image/png": "[encoded data removed]",
      "text/plain": [
       "<Figure size 432x288 with 1 Axes>"
      ]
     },
     "metadata": {
      "needs_background": "light"
     },
     "output_type": "display_data"
    }
   ],
   "source": [
    "%matplotlib inline\n",
    "fig, ax = plt.subplots()\n",
    "geo_df.plot(ax = ax, color = 'green')"
   ]
  },
  {
   "cell_type": "markdown",
   "metadata": {},
   "source": [
    "### It is clear there are two data points far outside of the city of Chicago (typos?)\n",
    "\n",
    "#### We will filter them out in the pandas dataframe using a boolean mask (as done before to filter the arrest 'Description'), and in doing so, also filter the null values (~6000 entries)"
   ]
  },
  {
   "cell_type": "code",
   "execution_count": 12,
   "metadata": {},
   "outputs": [],
   "source": [
    "bool_geo = df_30g_or_less.Longitude > -90\n",
    "df_final = df_30g_or_less[bool_geo]"
   ]
  },
  {
   "cell_type": "code",
   "execution_count": 13,
   "metadata": {},
   "outputs": [],
   "source": [
    "# this is a simple command to save this data as a csv\n",
    "# size is still too large uncompressed to be hosted on freemium github \n",
    "df_final.to_csv(\"Possession_30g_or_less-_2001_to_present.csv\")"
   ]
  }
 ],
 "metadata": {
  "kernelspec": {
   "display_name": "Python 3",
   "language": "python",
   "name": "python3"
  },
  "language_info": {
   "codemirror_mode": {
    "name": "ipython",
    "version": 3
   },
   "file_extension": ".py",
   "mimetype": "text/x-python",
   "name": "python",
   "nbconvert_exporter": "python",
   "pygments_lexer": "ipython3",
   "version": "3.6.9"
  }
 },
 "nbformat": 4,
 "nbformat_minor": 4
}
